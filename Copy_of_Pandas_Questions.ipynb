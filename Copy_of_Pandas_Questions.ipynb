{
  "nbformat": 4,
  "nbformat_minor": 0,
  "metadata": {
    "colab": {
      "provenance": [],
      "include_colab_link": true
    },
    "kernelspec": {
      "name": "python3",
      "display_name": "Python 3"
    },
    "language_info": {
      "name": "python"
    }
  },
  "cells": [
    {
      "cell_type": "markdown",
      "metadata": {
        "id": "view-in-github",
        "colab_type": "text"
      },
      "source": [
        "<a href=\"https://colab.research.google.com/github/Salma-Abouzeid/Pandas-Assignment/blob/main/Copy_of_Pandas_Questions.ipynb\" target=\"_parent\"><img src=\"https://colab.research.google.com/assets/colab-badge.svg\" alt=\"Open In Colab\"/></a>"
      ]
    },
    {
      "cell_type": "markdown",
      "source": [
        "# 🐼 Pandas Practice: DataFrames, Selection, Mapping, and More\n"
      ],
      "metadata": {
        "id": "ePeg5X6c1i76"
      }
    },
    {
      "cell_type": "code",
      "source": [
        "import pandas as pd\n",
        "import numpy as np\n",
        "\n",
        "# Set seed for reproducibility\n",
        "np.random.seed(42)\n",
        "\n",
        "# Sample data\n",
        "names = ['Alice', 'Bob', 'Charlie', 'Diana', 'Ethan', 'Fiona', 'George', 'Hannah']\n",
        "departments = ['Sales', 'Marketing', 'HR', 'Tech']\n",
        "\n",
        "# Create a DataFrame\n",
        "df = pd.DataFrame({\n",
        "    'Name': np.random.choice(names, size=20),\n",
        "    'Age': np.random.randint(22, 60, size=20),\n",
        "    'Department': np.random.choice(departments, size=20),\n",
        "    'Salary': np.random.randint(40000, 120000, size=20),\n",
        "    'YearsExperience': np.random.randint(0, 20, size=20)\n",
        "})\n",
        "df.head()"
      ],
      "metadata": {
        "id": "OTuYqCvk15t6",
        "colab": {
          "base_uri": "https://localhost:8080/",
          "height": 206
        },
        "outputId": "8418e804-6504-4755-a526-37961ddee3f8"
      },
      "execution_count": 131,
      "outputs": [
        {
          "output_type": "execute_result",
          "data": {
            "text/plain": [
              "      Name  Age Department  Salary  YearsExperience\n",
              "0   George   43         HR   75920               15\n",
              "1    Diana   23  Marketing  107121               12\n",
              "2    Ethan   45       Tech  109479               17\n",
              "3   George   51      Sales   59457               14\n",
              "4  Charlie   59       Tech  106557               12"
            ],
            "text/html": [
              "\n",
              "  <div id=\"df-14e7a1bb-23f0-4116-8092-1af25fbb348b\" class=\"colab-df-container\">\n",
              "    <div>\n",
              "<style scoped>\n",
              "    .dataframe tbody tr th:only-of-type {\n",
              "        vertical-align: middle;\n",
              "    }\n",
              "\n",
              "    .dataframe tbody tr th {\n",
              "        vertical-align: top;\n",
              "    }\n",
              "\n",
              "    .dataframe thead th {\n",
              "        text-align: right;\n",
              "    }\n",
              "</style>\n",
              "<table border=\"1\" class=\"dataframe\">\n",
              "  <thead>\n",
              "    <tr style=\"text-align: right;\">\n",
              "      <th></th>\n",
              "      <th>Name</th>\n",
              "      <th>Age</th>\n",
              "      <th>Department</th>\n",
              "      <th>Salary</th>\n",
              "      <th>YearsExperience</th>\n",
              "    </tr>\n",
              "  </thead>\n",
              "  <tbody>\n",
              "    <tr>\n",
              "      <th>0</th>\n",
              "      <td>George</td>\n",
              "      <td>43</td>\n",
              "      <td>HR</td>\n",
              "      <td>75920</td>\n",
              "      <td>15</td>\n",
              "    </tr>\n",
              "    <tr>\n",
              "      <th>1</th>\n",
              "      <td>Diana</td>\n",
              "      <td>23</td>\n",
              "      <td>Marketing</td>\n",
              "      <td>107121</td>\n",
              "      <td>12</td>\n",
              "    </tr>\n",
              "    <tr>\n",
              "      <th>2</th>\n",
              "      <td>Ethan</td>\n",
              "      <td>45</td>\n",
              "      <td>Tech</td>\n",
              "      <td>109479</td>\n",
              "      <td>17</td>\n",
              "    </tr>\n",
              "    <tr>\n",
              "      <th>3</th>\n",
              "      <td>George</td>\n",
              "      <td>51</td>\n",
              "      <td>Sales</td>\n",
              "      <td>59457</td>\n",
              "      <td>14</td>\n",
              "    </tr>\n",
              "    <tr>\n",
              "      <th>4</th>\n",
              "      <td>Charlie</td>\n",
              "      <td>59</td>\n",
              "      <td>Tech</td>\n",
              "      <td>106557</td>\n",
              "      <td>12</td>\n",
              "    </tr>\n",
              "  </tbody>\n",
              "</table>\n",
              "</div>\n",
              "    <div class=\"colab-df-buttons\">\n",
              "\n",
              "  <div class=\"colab-df-container\">\n",
              "    <button class=\"colab-df-convert\" onclick=\"convertToInteractive('df-14e7a1bb-23f0-4116-8092-1af25fbb348b')\"\n",
              "            title=\"Convert this dataframe to an interactive table.\"\n",
              "            style=\"display:none;\">\n",
              "\n",
              "  <svg xmlns=\"http://www.w3.org/2000/svg\" height=\"24px\" viewBox=\"0 -960 960 960\">\n",
              "    <path d=\"M120-120v-720h720v720H120Zm60-500h600v-160H180v160Zm220 220h160v-160H400v160Zm0 220h160v-160H400v160ZM180-400h160v-160H180v160Zm440 0h160v-160H620v160ZM180-180h160v-160H180v160Zm440 0h160v-160H620v160Z\"/>\n",
              "  </svg>\n",
              "    </button>\n",
              "\n",
              "  <style>\n",
              "    .colab-df-container {\n",
              "      display:flex;\n",
              "      gap: 12px;\n",
              "    }\n",
              "\n",
              "    .colab-df-convert {\n",
              "      background-color: #E8F0FE;\n",
              "      border: none;\n",
              "      border-radius: 50%;\n",
              "      cursor: pointer;\n",
              "      display: none;\n",
              "      fill: #1967D2;\n",
              "      height: 32px;\n",
              "      padding: 0 0 0 0;\n",
              "      width: 32px;\n",
              "    }\n",
              "\n",
              "    .colab-df-convert:hover {\n",
              "      background-color: #E2EBFA;\n",
              "      box-shadow: 0px 1px 2px rgba(60, 64, 67, 0.3), 0px 1px 3px 1px rgba(60, 64, 67, 0.15);\n",
              "      fill: #174EA6;\n",
              "    }\n",
              "\n",
              "    .colab-df-buttons div {\n",
              "      margin-bottom: 4px;\n",
              "    }\n",
              "\n",
              "    [theme=dark] .colab-df-convert {\n",
              "      background-color: #3B4455;\n",
              "      fill: #D2E3FC;\n",
              "    }\n",
              "\n",
              "    [theme=dark] .colab-df-convert:hover {\n",
              "      background-color: #434B5C;\n",
              "      box-shadow: 0px 1px 3px 1px rgba(0, 0, 0, 0.15);\n",
              "      filter: drop-shadow(0px 1px 2px rgba(0, 0, 0, 0.3));\n",
              "      fill: #FFFFFF;\n",
              "    }\n",
              "  </style>\n",
              "\n",
              "    <script>\n",
              "      const buttonEl =\n",
              "        document.querySelector('#df-14e7a1bb-23f0-4116-8092-1af25fbb348b button.colab-df-convert');\n",
              "      buttonEl.style.display =\n",
              "        google.colab.kernel.accessAllowed ? 'block' : 'none';\n",
              "\n",
              "      async function convertToInteractive(key) {\n",
              "        const element = document.querySelector('#df-14e7a1bb-23f0-4116-8092-1af25fbb348b');\n",
              "        const dataTable =\n",
              "          await google.colab.kernel.invokeFunction('convertToInteractive',\n",
              "                                                    [key], {});\n",
              "        if (!dataTable) return;\n",
              "\n",
              "        const docLinkHtml = 'Like what you see? Visit the ' +\n",
              "          '<a target=\"_blank\" href=https://colab.research.google.com/notebooks/data_table.ipynb>data table notebook</a>'\n",
              "          + ' to learn more about interactive tables.';\n",
              "        element.innerHTML = '';\n",
              "        dataTable['output_type'] = 'display_data';\n",
              "        await google.colab.output.renderOutput(dataTable, element);\n",
              "        const docLink = document.createElement('div');\n",
              "        docLink.innerHTML = docLinkHtml;\n",
              "        element.appendChild(docLink);\n",
              "      }\n",
              "    </script>\n",
              "  </div>\n",
              "\n",
              "\n",
              "    <div id=\"df-79d6221e-7aa3-48df-b6a4-accfc5928764\">\n",
              "      <button class=\"colab-df-quickchart\" onclick=\"quickchart('df-79d6221e-7aa3-48df-b6a4-accfc5928764')\"\n",
              "                title=\"Suggest charts\"\n",
              "                style=\"display:none;\">\n",
              "\n",
              "<svg xmlns=\"http://www.w3.org/2000/svg\" height=\"24px\"viewBox=\"0 0 24 24\"\n",
              "     width=\"24px\">\n",
              "    <g>\n",
              "        <path d=\"M19 3H5c-1.1 0-2 .9-2 2v14c0 1.1.9 2 2 2h14c1.1 0 2-.9 2-2V5c0-1.1-.9-2-2-2zM9 17H7v-7h2v7zm4 0h-2V7h2v10zm4 0h-2v-4h2v4z\"/>\n",
              "    </g>\n",
              "</svg>\n",
              "      </button>\n",
              "\n",
              "<style>\n",
              "  .colab-df-quickchart {\n",
              "      --bg-color: #E8F0FE;\n",
              "      --fill-color: #1967D2;\n",
              "      --hover-bg-color: #E2EBFA;\n",
              "      --hover-fill-color: #174EA6;\n",
              "      --disabled-fill-color: #AAA;\n",
              "      --disabled-bg-color: #DDD;\n",
              "  }\n",
              "\n",
              "  [theme=dark] .colab-df-quickchart {\n",
              "      --bg-color: #3B4455;\n",
              "      --fill-color: #D2E3FC;\n",
              "      --hover-bg-color: #434B5C;\n",
              "      --hover-fill-color: #FFFFFF;\n",
              "      --disabled-bg-color: #3B4455;\n",
              "      --disabled-fill-color: #666;\n",
              "  }\n",
              "\n",
              "  .colab-df-quickchart {\n",
              "    background-color: var(--bg-color);\n",
              "    border: none;\n",
              "    border-radius: 50%;\n",
              "    cursor: pointer;\n",
              "    display: none;\n",
              "    fill: var(--fill-color);\n",
              "    height: 32px;\n",
              "    padding: 0;\n",
              "    width: 32px;\n",
              "  }\n",
              "\n",
              "  .colab-df-quickchart:hover {\n",
              "    background-color: var(--hover-bg-color);\n",
              "    box-shadow: 0 1px 2px rgba(60, 64, 67, 0.3), 0 1px 3px 1px rgba(60, 64, 67, 0.15);\n",
              "    fill: var(--button-hover-fill-color);\n",
              "  }\n",
              "\n",
              "  .colab-df-quickchart-complete:disabled,\n",
              "  .colab-df-quickchart-complete:disabled:hover {\n",
              "    background-color: var(--disabled-bg-color);\n",
              "    fill: var(--disabled-fill-color);\n",
              "    box-shadow: none;\n",
              "  }\n",
              "\n",
              "  .colab-df-spinner {\n",
              "    border: 2px solid var(--fill-color);\n",
              "    border-color: transparent;\n",
              "    border-bottom-color: var(--fill-color);\n",
              "    animation:\n",
              "      spin 1s steps(1) infinite;\n",
              "  }\n",
              "\n",
              "  @keyframes spin {\n",
              "    0% {\n",
              "      border-color: transparent;\n",
              "      border-bottom-color: var(--fill-color);\n",
              "      border-left-color: var(--fill-color);\n",
              "    }\n",
              "    20% {\n",
              "      border-color: transparent;\n",
              "      border-left-color: var(--fill-color);\n",
              "      border-top-color: var(--fill-color);\n",
              "    }\n",
              "    30% {\n",
              "      border-color: transparent;\n",
              "      border-left-color: var(--fill-color);\n",
              "      border-top-color: var(--fill-color);\n",
              "      border-right-color: var(--fill-color);\n",
              "    }\n",
              "    40% {\n",
              "      border-color: transparent;\n",
              "      border-right-color: var(--fill-color);\n",
              "      border-top-color: var(--fill-color);\n",
              "    }\n",
              "    60% {\n",
              "      border-color: transparent;\n",
              "      border-right-color: var(--fill-color);\n",
              "    }\n",
              "    80% {\n",
              "      border-color: transparent;\n",
              "      border-right-color: var(--fill-color);\n",
              "      border-bottom-color: var(--fill-color);\n",
              "    }\n",
              "    90% {\n",
              "      border-color: transparent;\n",
              "      border-bottom-color: var(--fill-color);\n",
              "    }\n",
              "  }\n",
              "</style>\n",
              "\n",
              "      <script>\n",
              "        async function quickchart(key) {\n",
              "          const quickchartButtonEl =\n",
              "            document.querySelector('#' + key + ' button');\n",
              "          quickchartButtonEl.disabled = true;  // To prevent multiple clicks.\n",
              "          quickchartButtonEl.classList.add('colab-df-spinner');\n",
              "          try {\n",
              "            const charts = await google.colab.kernel.invokeFunction(\n",
              "                'suggestCharts', [key], {});\n",
              "          } catch (error) {\n",
              "            console.error('Error during call to suggestCharts:', error);\n",
              "          }\n",
              "          quickchartButtonEl.classList.remove('colab-df-spinner');\n",
              "          quickchartButtonEl.classList.add('colab-df-quickchart-complete');\n",
              "        }\n",
              "        (() => {\n",
              "          let quickchartButtonEl =\n",
              "            document.querySelector('#df-79d6221e-7aa3-48df-b6a4-accfc5928764 button');\n",
              "          quickchartButtonEl.style.display =\n",
              "            google.colab.kernel.accessAllowed ? 'block' : 'none';\n",
              "        })();\n",
              "      </script>\n",
              "    </div>\n",
              "\n",
              "    </div>\n",
              "  </div>\n"
            ],
            "application/vnd.google.colaboratory.intrinsic+json": {
              "type": "dataframe",
              "variable_name": "df",
              "summary": "{\n  \"name\": \"df\",\n  \"rows\": 20,\n  \"fields\": [\n    {\n      \"column\": \"Name\",\n      \"properties\": {\n        \"dtype\": \"category\",\n        \"num_unique_values\": 6,\n        \"samples\": [\n          \"George\",\n          \"Diana\",\n          \"Bob\"\n        ],\n        \"semantic_type\": \"\",\n        \"description\": \"\"\n      }\n    },\n    {\n      \"column\": \"Age\",\n      \"properties\": {\n        \"dtype\": \"number\",\n        \"std\": 11,\n        \"min\": 23,\n        \"max\": 59,\n        \"num_unique_values\": 17,\n        \"samples\": [\n          43,\n          23,\n          42\n        ],\n        \"semantic_type\": \"\",\n        \"description\": \"\"\n      }\n    },\n    {\n      \"column\": \"Department\",\n      \"properties\": {\n        \"dtype\": \"category\",\n        \"num_unique_values\": 4,\n        \"samples\": [\n          \"Marketing\",\n          \"Sales\",\n          \"HR\"\n        ],\n        \"semantic_type\": \"\",\n        \"description\": \"\"\n      }\n    },\n    {\n      \"column\": \"Salary\",\n      \"properties\": {\n        \"dtype\": \"number\",\n        \"std\": 24001,\n        \"min\": 41016,\n        \"max\": 118953,\n        \"num_unique_values\": 20,\n        \"samples\": [\n          75920,\n          80397,\n          72606\n        ],\n        \"semantic_type\": \"\",\n        \"description\": \"\"\n      }\n    },\n    {\n      \"column\": \"YearsExperience\",\n      \"properties\": {\n        \"dtype\": \"number\",\n        \"std\": 5,\n        \"min\": 0,\n        \"max\": 18,\n        \"num_unique_values\": 13,\n        \"samples\": [\n          16,\n          10,\n          15\n        ],\n        \"semantic_type\": \"\",\n        \"description\": \"\"\n      }\n    }\n  ]\n}"
            }
          },
          "metadata": {},
          "execution_count": 131
        }
      ]
    },
    {
      "cell_type": "markdown",
      "source": [
        "# 🧪 PRACTICE QUESTIONS BELOW\n",
        "\n",
        "\n",
        "# 1️⃣ Use .loc to select all rows where the Department is 'Tech'.\n",
        "#    - Describe what .loc does and why it's useful for label-based filtering.\n"
      ],
      "metadata": {
        "id": "COOLrDWX14rD"
      }
    },
    {
      "cell_type": "code",
      "source": [
        "import pandas as pd\n",
        "import numpy as np\n",
        "\n",
        "# Set seed for reproducibility\n",
        "np.random.seed(42)\n",
        "\n",
        "# Sample data\n",
        "names = ['Alice', 'Bob', 'Charlie', 'Diana', 'Ethan', 'Fiona', 'George', 'Hannah']\n",
        "departments = ['Sales', 'Marketing', 'HR', 'Tech']\n",
        "\n",
        "# Create a DataFrame\n",
        "df = pd.DataFrame({\n",
        "    'Name': np.random.choice(names, size=20),\n",
        "    'Age': np.random.randint(22, 60, size=20),\n",
        "    'Department': np.random.choice(departments, size=20),\n",
        "    'Salary': np.random.randint(40000, 120000, size=20),\n",
        "    'YearsExperience': np.random.randint(0, 20, size=20)\n",
        "})\n",
        "print(df.loc[df['Department']=='Tech']) #loc is used to access certain rows and columns using indexes or conditions"
      ],
      "metadata": {
        "colab": {
          "base_uri": "https://localhost:8080/"
        },
        "id": "NM9uq_o37Bjr",
        "outputId": "94157459-8bec-4c1b-a4f1-578b7b419fcb"
      },
      "execution_count": 77,
      "outputs": [
        {
          "output_type": "stream",
          "name": "stdout",
          "text": [
            "       Name  Age Department  Salary  YearsExperience\n",
            "2     Ethan   45       Tech  109479               17\n",
            "4   Charlie   59       Tech  106557               12\n",
            "12  Charlie   49       Tech  111211               11\n",
            "13  Charlie   37       Tech  105697                7\n",
            "15    Ethan   24       Tech   72606               18\n",
            "17   Hannah   28       Tech   80397                7\n",
            "19  Charlie   30       Tech   95591                2\n"
          ]
        }
      ]
    },
    {
      "cell_type": "code",
      "source": [],
      "metadata": {
        "id": "HGkOflsB68hM"
      },
      "execution_count": null,
      "outputs": []
    },
    {
      "cell_type": "code",
      "source": [],
      "metadata": {
        "id": "c5onoSKF60vt"
      },
      "execution_count": 3,
      "outputs": []
    },
    {
      "cell_type": "markdown",
      "source": [
        "\n",
        "# 2️⃣ Use .iloc to select the first 5 rows and the last two columns.\n",
        "#    - What is the difference between .loc and .iloc?\n"
      ],
      "metadata": {
        "id": "RmHzXmu318u0"
      }
    },
    {
      "cell_type": "code",
      "source": [
        "print(df.iloc[:5,-2:]) #loc can use labels as arguments, while iloc uses indexes. In loc, slicing last elements is included, in iloc, it is not"
      ],
      "metadata": {
        "id": "3ahySeue2fCn",
        "colab": {
          "base_uri": "https://localhost:8080/"
        },
        "outputId": "6d3ace74-9de4-4d2d-d6a8-39a13d09efc9"
      },
      "execution_count": 25,
      "outputs": [
        {
          "output_type": "stream",
          "name": "stdout",
          "text": [
            "   Salary  YearsExperience\n",
            "0   75920               15\n",
            "1  107121               12\n",
            "2  109479               17\n",
            "3   59457               14\n",
            "4  106557               12\n"
          ]
        }
      ]
    },
    {
      "cell_type": "markdown",
      "source": [
        "\n",
        "# 3️⃣ Map a new column called 'DeptCode' where:\n",
        "#     'Sales' -> 1, 'Marketing' -> 2, 'HR' -> 3, 'Tech' -> 4.\n",
        "#    - Use .map and explain what happens if a value is not mapped.\n"
      ],
      "metadata": {
        "id": "36156bFO198O"
      }
    },
    {
      "cell_type": "code",
      "source": [
        "df['DeptCode']=df['Department'].map({'Sales':1,'Marketing':2,'HR':3,'Tech':4})\n",
        "print(df)\n",
        "#if a value is not mapped, its corresponding value in the new column becomes a null value"
      ],
      "metadata": {
        "id": "vGfO663F2gEV",
        "colab": {
          "base_uri": "https://localhost:8080/"
        },
        "outputId": "6c29db62-33db-4ff6-b37f-847a0aab7c5a"
      },
      "execution_count": 113,
      "outputs": [
        {
          "output_type": "stream",
          "name": "stdout",
          "text": [
            "       Name  Age Department  Salary  YearsExperience  DeptCode\n",
            "0    George   43         HR   75920               15         3\n",
            "1     Diana   23  Marketing  107121               12         2\n",
            "2     Ethan   45       Tech  109479               17         4\n",
            "3    George   51      Sales   59457               14         1\n",
            "4   Charlie   59       Tech  106557               12         4\n",
            "5    Hannah   23  Marketing  117189                8         2\n",
            "6     Ethan   42  Marketing  118953               14         2\n",
            "7     Ethan   54  Marketing   92995               12         2\n",
            "8    George   33      Sales   80757                0         1\n",
            "9       Bob   43  Marketing   49692                6         2\n",
            "10  Charlie   46      Sales   85758                8         1\n",
            "11   George   48  Marketing  112409                0         2\n",
            "12  Charlie   49       Tech  111211               11         4\n",
            "13  Charlie   37       Tech  105697                7         4\n",
            "14   Hannah   36         HR   77065               10         3\n",
            "15    Ethan   24       Tech   72606               18         4\n",
            "16    Diana   58         HR   51534               16         3\n",
            "17   Hannah   28       Tech   80397                7         4\n",
            "18   Hannah   42      Sales   41016                2         1\n",
            "19  Charlie   30       Tech   95591                2         4\n"
          ]
        }
      ]
    },
    {
      "cell_type": "markdown",
      "source": [
        "\n",
        "# 4️⃣ Use .apply to calculate a new column 'Seniority' where:\n",
        "#     - If YearsExperience > 10 → 'Senior'\n",
        "#     - If between 5-10 → 'Mid-Level'\n",
        "#     - Else → 'Junior'\n",
        "#    - Use a lambda function with apply.\n"
      ],
      "metadata": {
        "id": "F4UBD8S-1_ds"
      }
    },
    {
      "cell_type": "code",
      "source": [
        "def func(x):\n",
        "  if x>10:\n",
        "    return 'Senior'\n",
        "  elif x>5 and x<10:\n",
        "    return 'Mid-level'\n",
        "  else:\n",
        "    return 'Junior'\n",
        "\n",
        "df['Seniority']=df['YearsExperience'].apply(func)\n",
        "print(df)\n",
        ""
      ],
      "metadata": {
        "id": "PC6O6UWa2gq5",
        "colab": {
          "base_uri": "https://localhost:8080/"
        },
        "outputId": "7750a225-0b2e-4f9f-94cc-5b48b57dc468"
      },
      "execution_count": 37,
      "outputs": [
        {
          "output_type": "stream",
          "name": "stdout",
          "text": [
            "       Name  Age Department  Salary  YearsExperience  Seniority\n",
            "0    George   43         HR   75920               15     Senior\n",
            "1     Diana   23  Marketing  107121               12     Senior\n",
            "2     Ethan   45       Tech  109479               17     Senior\n",
            "3    George   51      Sales   59457               14     Senior\n",
            "4   Charlie   59       Tech  106557               12     Senior\n",
            "5    Hannah   23  Marketing  117189                8  Mid-level\n",
            "6     Ethan   42  Marketing  118953               14     Senior\n",
            "7     Ethan   54  Marketing   92995               12     Senior\n",
            "8    George   33      Sales   35000                0     Junior\n",
            "9       Bob   43  Marketing   49692                6  Mid-level\n",
            "10  Charlie   46      Sales   85758                8  Mid-level\n",
            "11   George   48  Marketing   35000                0     Junior\n",
            "12  Charlie   49       Tech  111211               11     Senior\n",
            "13  Charlie   37       Tech  105697                7  Mid-level\n",
            "14   Hannah   36         HR   77065               10     Junior\n",
            "15    Ethan   24       Tech   72606               18     Senior\n",
            "16    Diana   58         HR   51534               16     Senior\n",
            "17   Hannah   28       Tech   80397                7  Mid-level\n",
            "18   Hannah   42      Sales   35000                2     Junior\n",
            "19  Charlie   30       Tech   35000                2     Junior\n"
          ]
        }
      ]
    },
    {
      "cell_type": "markdown",
      "source": [
        "\n",
        "# 5️⃣ Overwrite all salaries for employees with < 3 years of experience to 35000.\n",
        "#    - Use boolean indexing with .loc to do this.\n"
      ],
      "metadata": {
        "id": "9IsCMyfi2BkI"
      }
    },
    {
      "cell_type": "code",
      "source": [
        "for i in range(20):\n",
        "  if df.loc[i,'YearsExperience']<3:\n",
        "    df.loc[i,'Salary']=35000\n",
        "print(df)"
      ],
      "metadata": {
        "colab": {
          "base_uri": "https://localhost:8080/"
        },
        "id": "LDejYcxXDbjl",
        "outputId": "b7934e09-3296-49f2-84d5-ed4ac5b97bf0"
      },
      "execution_count": 67,
      "outputs": [
        {
          "output_type": "stream",
          "name": "stdout",
          "text": [
            "       Name  Age Department  Salary  YearsExperience\n",
            "0    George   43         HR   75920               15\n",
            "1     Diana   23  Marketing  107121               12\n",
            "2     Ethan   45       Tech  109479               17\n",
            "3    George   51      Sales   59457               14\n",
            "4   Charlie   59       Tech  106557               12\n",
            "5    Hannah   23  Marketing  117189                8\n",
            "6     Ethan   42  Marketing  118953               14\n",
            "7     Ethan   54  Marketing   92995               12\n",
            "8    George   33      Sales   35000                0\n",
            "9       Bob   43  Marketing   49692                6\n",
            "10  Charlie   46      Sales   85758                8\n",
            "11   George   48  Marketing   35000                0\n",
            "12  Charlie   49       Tech  111211               11\n",
            "13  Charlie   37       Tech  105697                7\n",
            "14   Hannah   36         HR   77065               10\n",
            "15    Ethan   24       Tech   72606               18\n",
            "16    Diana   58         HR   51534               16\n",
            "17   Hannah   28       Tech   80397                7\n",
            "18   Hannah   42      Sales   35000                2\n",
            "19  Charlie   30       Tech   35000                2\n"
          ]
        }
      ]
    },
    {
      "cell_type": "markdown",
      "source": [
        "\n",
        "# 6️⃣ Compare using .loc and .iloc to select the same row:\n",
        "#    - Select the 3rd row using .iloc\n",
        "#    - Find its index value and use .loc to select the same row by label\n"
      ],
      "metadata": {
        "id": "xmIKaXDH2CwE"
      }
    },
    {
      "cell_type": "code",
      "source": [
        "print(df.iloc[2])\n",
        "print(df.loc[2])"
      ],
      "metadata": {
        "id": "7Y4VrlBn2igs",
        "colab": {
          "base_uri": "https://localhost:8080/"
        },
        "outputId": "983e6939-fe6b-4146-c4c1-7de4d36bc817"
      },
      "execution_count": 43,
      "outputs": [
        {
          "output_type": "stream",
          "name": "stdout",
          "text": [
            "Name                Ethan\n",
            "Age                    45\n",
            "Department           Tech\n",
            "Salary             109479\n",
            "YearsExperience        17\n",
            "Seniority          Senior\n",
            "Name: 2, dtype: object\n",
            "Name                Ethan\n",
            "Age                    45\n",
            "Department           Tech\n",
            "Salary             109479\n",
            "YearsExperience        17\n",
            "Seniority          Senior\n",
            "Name: 2, dtype: object\n"
          ]
        }
      ]
    },
    {
      "cell_type": "markdown",
      "source": [
        "\n",
        "# 7️⃣ Check if there are any duplicate names in the dataset.\n",
        "#    - If there are, show only those duplicated rows.\n"
      ],
      "metadata": {
        "id": "lVu_9fuR2EoF"
      }
    },
    {
      "cell_type": "code",
      "source": [
        "print(df[df['Name'].map(df['Name'].value_counts())>1])"
      ],
      "metadata": {
        "id": "1q6SQHhH2jMu",
        "colab": {
          "base_uri": "https://localhost:8080/"
        },
        "outputId": "97199eb8-fd4a-4acd-c5b0-fa2076015b82"
      },
      "execution_count": 91,
      "outputs": [
        {
          "output_type": "stream",
          "name": "stdout",
          "text": [
            "       Name  Age Department  Salary  YearsExperience\n",
            "0    George   43         HR   75920               15\n",
            "1     Diana   23  Marketing  107121               12\n",
            "2     Ethan   45       Tech  109479               17\n",
            "3    George   51      Sales   59457               14\n",
            "4   Charlie   59       Tech  106557               12\n",
            "5    Hannah   23  Marketing  117189                8\n",
            "6     Ethan   42  Marketing  118953               14\n",
            "7     Ethan   54  Marketing   92995               12\n",
            "8    George   33      Sales   80757                0\n",
            "10  Charlie   46      Sales   85758                8\n",
            "11   George   48  Marketing  112409                0\n",
            "12  Charlie   49       Tech  111211               11\n",
            "13  Charlie   37       Tech  105697                7\n",
            "14   Hannah   36         HR   77065               10\n",
            "15    Ethan   24       Tech   72606               18\n",
            "16    Diana   58         HR   51534               16\n",
            "17   Hannah   28       Tech   80397                7\n",
            "18   Hannah   42      Sales   41016                2\n",
            "19  Charlie   30       Tech   95591                2\n"
          ]
        }
      ]
    },
    {
      "cell_type": "markdown",
      "source": [
        "\n",
        "# 8️⃣ Sort the DataFrame by Salary in descending order.\n",
        "#    - Then sort it by Department and within Department by Age.\n"
      ],
      "metadata": {
        "id": "1zeHaO1p2Gy2"
      }
    },
    {
      "cell_type": "code",
      "source": [
        "print(df.sort_values(by='Salary',ascending=False))"
      ],
      "metadata": {
        "id": "MatI2IZe2j-z",
        "colab": {
          "base_uri": "https://localhost:8080/"
        },
        "outputId": "c2696290-1694-4203-abac-75ea8690901d"
      },
      "execution_count": 75,
      "outputs": [
        {
          "output_type": "stream",
          "name": "stdout",
          "text": [
            "       Name  Age Department  Salary  YearsExperience\n",
            "6     Ethan   42  Marketing  118953               14\n",
            "5    Hannah   23  Marketing  117189                8\n",
            "11   George   48  Marketing  112409                0\n",
            "12  Charlie   49       Tech  111211               11\n",
            "2     Ethan   45       Tech  109479               17\n",
            "1     Diana   23  Marketing  107121               12\n",
            "4   Charlie   59       Tech  106557               12\n",
            "13  Charlie   37       Tech  105697                7\n",
            "19  Charlie   30       Tech   95591                2\n",
            "7     Ethan   54  Marketing   92995               12\n",
            "10  Charlie   46      Sales   85758                8\n",
            "8    George   33      Sales   80757                0\n",
            "17   Hannah   28       Tech   80397                7\n",
            "14   Hannah   36         HR   77065               10\n",
            "0    George   43         HR   75920               15\n",
            "15    Ethan   24       Tech   72606               18\n",
            "3    George   51      Sales   59457               14\n",
            "16    Diana   58         HR   51534               16\n",
            "9       Bob   43  Marketing   49692                6\n",
            "18   Hannah   42      Sales   41016                2\n"
          ]
        }
      ]
    },
    {
      "cell_type": "markdown",
      "source": [
        "\n",
        "# 9️⃣ Slice the DataFrame to return rows 5 through 12 and columns 'Name', 'Salary'\n",
        "#    - Try slicing using both label-based and position-based methods.\n"
      ],
      "metadata": {
        "id": "HXwU6hTb2Ksv"
      }
    },
    {
      "cell_type": "code",
      "source": [
        "print(df.loc[5:12,['Name','Salary']])\n",
        "print(df.iloc[5:13,[0,3]])"
      ],
      "metadata": {
        "id": "wqOj-pOH2kmd",
        "colab": {
          "base_uri": "https://localhost:8080/"
        },
        "outputId": "f7fea872-d186-43c3-bc61-21d64629164c"
      },
      "execution_count": 84,
      "outputs": [
        {
          "output_type": "stream",
          "name": "stdout",
          "text": [
            "       Name  Salary\n",
            "5    Hannah  117189\n",
            "6     Ethan  118953\n",
            "7     Ethan   92995\n",
            "8    George   80757\n",
            "9       Bob   49692\n",
            "10  Charlie   85758\n",
            "11   George  112409\n",
            "12  Charlie  111211\n",
            "       Name  Salary\n",
            "5    Hannah  117189\n",
            "6     Ethan  118953\n",
            "7     Ethan   92995\n",
            "8    George   80757\n",
            "9       Bob   49692\n",
            "10  Charlie   85758\n",
            "11   George  112409\n",
            "12  Charlie  111211\n"
          ]
        }
      ]
    },
    {
      "cell_type": "markdown",
      "source": [
        "\n",
        "# 🔟 Find all rows where the name starts with 'A' or 'D'.\n",
        "#    - Use string methods with .str accessor.\n"
      ],
      "metadata": {
        "id": "wF8r5U8G2MAq"
      }
    },
    {
      "cell_type": "code",
      "source": [
        "print(df[df['Name'].str.startswith('A') | df['Name'].str.startswith('D')])"
      ],
      "metadata": {
        "id": "NYqLXs_e2lsl",
        "colab": {
          "base_uri": "https://localhost:8080/"
        },
        "outputId": "d2ff4666-2fc3-4d32-f638-29d02a38a519"
      },
      "execution_count": 88,
      "outputs": [
        {
          "output_type": "stream",
          "name": "stdout",
          "text": [
            "     Name  Age Department  Salary  YearsExperience\n",
            "1   Diana   23  Marketing  107121               12\n",
            "16  Diana   58         HR   51534               16\n"
          ]
        }
      ]
    },
    {
      "cell_type": "markdown",
      "source": [
        "\n",
        "# 1️⃣1️⃣ Drop all rows where Age is below 25.\n",
        "#     - Explain whether this modifies the DataFrame in place or returns a copy.\n"
      ],
      "metadata": {
        "id": "Yd_SkvsI2Nvn"
      }
    },
    {
      "cell_type": "code",
      "source": [
        "print(df.drop(df[df['Age']<25].index))\n",
        "\n",
        "#it returns a copy not modify"
      ],
      "metadata": {
        "id": "EgrbPKED2ny5",
        "colab": {
          "base_uri": "https://localhost:8080/"
        },
        "outputId": "282dae8b-ce11-473b-bd0d-14f81db9e6b5"
      },
      "execution_count": 114,
      "outputs": [
        {
          "output_type": "stream",
          "name": "stdout",
          "text": [
            "       Name  Age Department  Salary  YearsExperience  DeptCode\n",
            "0    George   43         HR   75920               15         3\n",
            "2     Ethan   45       Tech  109479               17         4\n",
            "3    George   51      Sales   59457               14         1\n",
            "4   Charlie   59       Tech  106557               12         4\n",
            "6     Ethan   42  Marketing  118953               14         2\n",
            "7     Ethan   54  Marketing   92995               12         2\n",
            "8    George   33      Sales   80757                0         1\n",
            "9       Bob   43  Marketing   49692                6         2\n",
            "10  Charlie   46      Sales   85758                8         1\n",
            "11   George   48  Marketing  112409                0         2\n",
            "12  Charlie   49       Tech  111211               11         4\n",
            "13  Charlie   37       Tech  105697                7         4\n",
            "14   Hannah   36         HR   77065               10         3\n",
            "16    Diana   58         HR   51534               16         3\n",
            "17   Hannah   28       Tech   80397                7         4\n",
            "18   Hannah   42      Sales   41016                2         1\n",
            "19  Charlie   30       Tech   95591                2         4\n"
          ]
        }
      ]
    },
    {
      "cell_type": "markdown",
      "source": [
        "\n",
        "# 1️⃣2️⃣ Use groupby to calculate the average salary per Department.\n",
        "#     - Bonus: Show the average age and average experience too.\n"
      ],
      "metadata": {
        "id": "bfp6LIa12PkV"
      }
    },
    {
      "cell_type": "code",
      "source": [
        "print(df.groupby('Department')['Salary'].mean())\n",
        "print(df.groupby('Department')['Age'].mean())\n",
        "print(df.groupby('Department')['YearsExperience'].mean())"
      ],
      "metadata": {
        "id": "o6DWFvRw2onl",
        "colab": {
          "base_uri": "https://localhost:8080/"
        },
        "outputId": "2665f77d-46de-472c-dd3f-b0873e7ec690"
      },
      "execution_count": 108,
      "outputs": [
        {
          "output_type": "stream",
          "name": "stdout",
          "text": [
            "Department\n",
            "HR           68173.000000\n",
            "Marketing    99726.500000\n",
            "Sales        66747.000000\n",
            "Tech         97362.571429\n",
            "Name: Salary, dtype: float64\n",
            "Department\n",
            "HR           45.666667\n",
            "Marketing    38.833333\n",
            "Sales        43.000000\n",
            "Tech         38.857143\n",
            "Name: Age, dtype: float64\n",
            "Department\n",
            "HR           13.666667\n",
            "Marketing     8.666667\n",
            "Sales         6.000000\n",
            "Tech         10.571429\n",
            "Name: YearsExperience, dtype: float64\n"
          ]
        }
      ]
    },
    {
      "cell_type": "markdown",
      "source": [
        "\n",
        "# 1️⃣3️⃣ Use groupby to count how many employees are in each Department.\n"
      ],
      "metadata": {
        "id": "44jsni7P2Qqy"
      }
    },
    {
      "cell_type": "code",
      "source": [
        "print(df.groupby('Department')['Name'].count())"
      ],
      "metadata": {
        "id": "5EEXf1WK2pKX",
        "colab": {
          "base_uri": "https://localhost:8080/"
        },
        "outputId": "bce62807-58eb-41db-ec36-64d46577e296"
      },
      "execution_count": 111,
      "outputs": [
        {
          "output_type": "stream",
          "name": "stdout",
          "text": [
            "Department\n",
            "HR           3\n",
            "Marketing    6\n",
            "Sales        4\n",
            "Tech         7\n",
            "Name: Name, dtype: int64\n"
          ]
        }
      ]
    },
    {
      "cell_type": "markdown",
      "source": [
        "\n",
        "# 1️⃣4️⃣ Use .apply to normalize the Salary column (min-max scaling between 0 and 1).\n",
        "#     - Bonus: Write your own normalization function and pass it to apply.\n"
      ],
      "metadata": {
        "id": "9guz71AU2R0R"
      }
    },
    {
      "cell_type": "code",
      "source": [
        "def func(x):\n",
        "  return ((x-df['Salary'].min())/(df['Salary'].max()-df['Salary'].min()))\n",
        "\n",
        "df['New Salary']=df['Salary'].apply(func)\n",
        "print(df)"
      ],
      "metadata": {
        "id": "Dwh1lczW2qKa",
        "colab": {
          "base_uri": "https://localhost:8080/"
        },
        "outputId": "137a8078-a2c8-4b36-ac71-b0c1281b0221"
      },
      "execution_count": 127,
      "outputs": [
        {
          "output_type": "stream",
          "name": "stdout",
          "text": [
            "       Name  Age Department  Salary  YearsExperience  DeptCode  New Salary\n",
            "0    George   43         HR   75920               15         3    0.447849\n",
            "1     Diana   23  Marketing  107121               12         2    0.848185\n",
            "2     Ethan   45       Tech  109479               17         4    0.878440\n",
            "3    George   51      Sales   59457               14         1    0.236614\n",
            "4   Charlie   59       Tech  106557               12         4    0.840948\n",
            "5    Hannah   23  Marketing  117189                8         2    0.977366\n",
            "6     Ethan   42  Marketing  118953               14         2    1.000000\n",
            "7     Ethan   54  Marketing   92995               12         2    0.666936\n",
            "8    George   33      Sales   80757                0         1    0.509912\n",
            "9       Bob   43  Marketing   49692                6         2    0.111321\n",
            "10  Charlie   46      Sales   85758                8         1    0.574079\n",
            "11   George   48  Marketing  112409                0         2    0.916035\n",
            "12  Charlie   49       Tech  111211               11         4    0.900663\n",
            "13  Charlie   37       Tech  105697                7         4    0.829914\n",
            "14   Hannah   36         HR   77065               10         3    0.462540\n",
            "15    Ethan   24       Tech   72606               18         4    0.405327\n",
            "16    Diana   58         HR   51534               16         3    0.134955\n",
            "17   Hannah   28       Tech   80397                7         4    0.505293\n",
            "18   Hannah   42      Sales   41016                2         1    0.000000\n",
            "19  Charlie   30       Tech   95591                2         4    0.700245\n"
          ]
        }
      ]
    },
    {
      "cell_type": "markdown",
      "source": [
        "\n",
        "# 1️⃣5️⃣ Use boolean indexing to find all employees who:\n",
        "#     - Are in 'HR' OR 'Tech', AND have > 5 years of experience.\n",
        "\n",
        "# 🔁 For many of these tasks, try both .loc and .iloc to build intuition on their differences.\n",
        "\n"
      ],
      "metadata": {
        "id": "r8GSudrV2VRt"
      }
    },
    {
      "cell_type": "code",
      "source": [
        "print(df.loc[(df['Department']=='HR')|(df['Department']=='Tech') & (df['YearsExperience']>5)])"
      ],
      "metadata": {
        "id": "ClYGZE4C2rzJ",
        "colab": {
          "base_uri": "https://localhost:8080/"
        },
        "outputId": "334a1431-0625-4458-a197-050bd2c2371c"
      },
      "execution_count": 137,
      "outputs": [
        {
          "output_type": "stream",
          "name": "stdout",
          "text": [
            "       Name  Age Department  Salary  YearsExperience\n",
            "0    George   43         HR   75920               15\n",
            "2     Ethan   45       Tech  109479               17\n",
            "4   Charlie   59       Tech  106557               12\n",
            "12  Charlie   49       Tech  111211               11\n",
            "13  Charlie   37       Tech  105697                7\n",
            "14   Hannah   36         HR   77065               10\n",
            "15    Ethan   24       Tech   72606               18\n",
            "16    Diana   58         HR   51534               16\n",
            "17   Hannah   28       Tech   80397                7\n"
          ]
        }
      ]
    }
  ]
}